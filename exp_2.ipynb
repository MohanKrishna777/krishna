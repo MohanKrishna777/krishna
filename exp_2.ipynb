{
  "nbformat": 4,
  "nbformat_minor": 0,
  "metadata": {
    "colab": {
      "provenance": [],
      "authorship_tag": "ABX9TyMD4ftECLrZUGMANY3Qzo2o",
      "include_colab_link": true
    },
    "kernelspec": {
      "name": "python3",
      "display_name": "Python 3"
    },
    "language_info": {
      "name": "python"
    }
  },
  "cells": [
    {
      "cell_type": "markdown",
      "metadata": {
        "id": "view-in-github",
        "colab_type": "text"
      },
      "source": [
        "<a href=\"https://colab.research.google.com/github/MohanKrishna777/krishna/blob/main/exp_2.ipynb\" target=\"_parent\"><img src=\"https://colab.research.google.com/assets/colab-badge.svg\" alt=\"Open In Colab\"/></a>"
      ]
    },
    {
      "cell_type": "code",
      "execution_count": 1,
      "metadata": {
        "colab": {
          "base_uri": "https://localhost:8080/"
        },
        "id": "2pbZr4FejFHx",
        "outputId": "9cf940ed-73ac-4fb0-8362-a06e341b63da"
      },
      "outputs": [
        {
          "output_type": "stream",
          "name": "stdout",
          "text": [
            "Downloading data from https://storage.googleapis.com/tensorflow/tf-keras-datasets/mnist.npz\n",
            "11490434/11490434 [==============================] - 0s 0us/step\n",
            "Epoch 1/5\n",
            "1500/1500 [==============================] - 13s 7ms/step - loss: 0.2668 - accuracy: 0.9221 - val_loss: 0.1532 - val_accuracy: 0.9537\n",
            "Epoch 2/5\n",
            "1500/1500 [==============================] - 8s 6ms/step - loss: 0.1074 - accuracy: 0.9675 - val_loss: 0.1085 - val_accuracy: 0.9686\n",
            "Epoch 3/5\n",
            "1500/1500 [==============================] - 6s 4ms/step - loss: 0.0733 - accuracy: 0.9771 - val_loss: 0.0954 - val_accuracy: 0.9716\n",
            "Epoch 4/5\n",
            "1500/1500 [==============================] - 7s 5ms/step - loss: 0.0550 - accuracy: 0.9826 - val_loss: 0.0822 - val_accuracy: 0.9762\n",
            "Epoch 5/5\n",
            "1500/1500 [==============================] - 6s 4ms/step - loss: 0.0428 - accuracy: 0.9859 - val_loss: 0.0943 - val_accuracy: 0.9740\n",
            "313/313 [==============================] - 1s 2ms/step - loss: 0.0821 - accuracy: 0.9766\n",
            "Test accuracy: 0.9766\n"
          ]
        }
      ],
      "source": [
        "import tensorflow as tf\n",
        "from tensorflow.keras.datasets import mnist\n",
        "from tensorflow.keras.models import Sequential\n",
        "from tensorflow.keras.layers import Dense, Flatten\n",
        "from tensorflow.keras.utils import to_categorical\n",
        "# Load and preprocess the MNIST dataset\n",
        "(x_train, y_train), (x_test, y_test) = mnist.load_data()\n",
        "x_train, x_test = x_train / 255.0, x_test / 255.0\n",
        "y_train, y_test = to_categorical(y_train, 10), to_categorical(y_test, 10)\n",
        "model = Sequential([\n",
        " Flatten(input_shape=(28, 28)),\n",
        " Dense(128, activation='relu'),\n",
        " Dense(64, activation='relu'),\n",
        " Dense(10, activation='softmax')\n",
        "])\n",
        "model.compile(optimizer='adam',loss='categorical_crossentropy',metrics=['accuracy'])\n",
        "model.fit(x_train, y_train, epochs=5, batch_size=32, validation_split=0.2)\n",
        "test_loss, test_accuracy = model.evaluate(x_test, y_test)\n",
        "print(f\"Test accuracy: {test_accuracy:.4f}\")\n"
      ]
    }
  ]
}