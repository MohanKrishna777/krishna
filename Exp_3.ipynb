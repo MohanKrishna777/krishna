{
  "nbformat": 4,
  "nbformat_minor": 0,
  "metadata": {
    "colab": {
      "provenance": [],
      "authorship_tag": "ABX9TyPtY2dyzEcOLmOUvkSwd7wM",
      "include_colab_link": true
    },
    "kernelspec": {
      "name": "python3",
      "display_name": "Python 3"
    },
    "language_info": {
      "name": "python"
    }
  },
  "cells": [
    {
      "cell_type": "markdown",
      "metadata": {
        "id": "view-in-github",
        "colab_type": "text"
      },
      "source": [
        "<a href=\"https://colab.research.google.com/github/MohanKrishna777/krishna/blob/main/Exp_3.ipynb\" target=\"_parent\"><img src=\"https://colab.research.google.com/assets/colab-badge.svg\" alt=\"Open In Colab\"/></a>"
      ]
    },
    {
      "cell_type": "code",
      "execution_count": 1,
      "metadata": {
        "colab": {
          "base_uri": "https://localhost:8080/"
        },
        "id": "J0xkBn_VkGSj",
        "outputId": "22cfcbbb-eaab-4915-83ea-7f32deebfcdb"
      },
      "outputs": [
        {
          "output_type": "stream",
          "name": "stdout",
          "text": [
            "Epoch 1/10\n",
            "20/20 [==============================] - 2s 28ms/step - loss: 0.6963 - accuracy: 0.5656 - val_loss: 0.6837 - val_accuracy: 0.6375\n",
            "Epoch 2/10\n",
            "20/20 [==============================] - 0s 7ms/step - loss: 0.6767 - accuracy: 0.5500 - val_loss: 0.6588 - val_accuracy: 0.6250\n",
            "Epoch 3/10\n",
            "20/20 [==============================] - 0s 8ms/step - loss: 0.6589 - accuracy: 0.5688 - val_loss: 0.6366 - val_accuracy: 0.6500\n",
            "Epoch 4/10\n",
            "20/20 [==============================] - 0s 7ms/step - loss: 0.6408 - accuracy: 0.6125 - val_loss: 0.6160 - val_accuracy: 0.6687\n",
            "Epoch 5/10\n",
            "20/20 [==============================] - 0s 7ms/step - loss: 0.6210 - accuracy: 0.7000 - val_loss: 0.5966 - val_accuracy: 0.6938\n",
            "Epoch 6/10\n",
            "20/20 [==============================] - 0s 7ms/step - loss: 0.5993 - accuracy: 0.7500 - val_loss: 0.5738 - val_accuracy: 0.7688\n",
            "Epoch 7/10\n",
            "20/20 [==============================] - 0s 6ms/step - loss: 0.5752 - accuracy: 0.7828 - val_loss: 0.5496 - val_accuracy: 0.8313\n",
            "Epoch 8/10\n",
            "20/20 [==============================] - 0s 8ms/step - loss: 0.5494 - accuracy: 0.8172 - val_loss: 0.5254 - val_accuracy: 0.8625\n",
            "Epoch 9/10\n",
            "20/20 [==============================] - 0s 5ms/step - loss: 0.5228 - accuracy: 0.8562 - val_loss: 0.4999 - val_accuracy: 0.9000\n",
            "Epoch 10/10\n",
            "20/20 [==============================] - 0s 7ms/step - loss: 0.4960 - accuracy: 0.8813 - val_loss: 0.4733 - val_accuracy: 0.9187\n",
            "7/7 [==============================] - 0s 3ms/step\n",
            "Test accuracy: 0.8800\n"
          ]
        }
      ],
      "source": [
        "import numpy as np\n",
        "import tensorflow as tf\n",
        "from tensorflow.keras.models import Sequential\n",
        "from tensorflow.keras.layers import Dense,Input\n",
        "from sklearn.model_selection import train_test_split\n",
        "from sklearn.metrics import accuracy_score\n",
        "np.random.seed(42)\n",
        "X = np.random.rand(1000, 2)\n",
        "y = (X[:, 0] + X[:, 1] > 1).astype(int)\n",
        "X_train, X_test, y_train, y_test = train_test_split(X, y, test_size=0.2,\n",
        "random_state=42)\n",
        "model = Sequential([Input(shape=(2)),Dense(64, activation='relu'),Dense(1,\n",
        "activation='sigmoid')])\n",
        "model.compile(optimizer='adam',loss='binary_crossentropy',metrics=['accuracy'])\n",
        "model.fit(X_train, y_train, epochs=10, batch_size=32, validation_split=0.2)\n",
        "y_pred = model.predict(X_test)\n",
        "y_pred_binary = (y_pred > 0.5).astype(int)\n",
        "test_accuracy = accuracy_score(y_test, y_pred_binary)\n",
        "print(f\"Test accuracy: {test_accuracy:.4f}\")\n"
      ]
    }
  ]
}