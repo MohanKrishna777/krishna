{
  "nbformat": 4,
  "nbformat_minor": 0,
  "metadata": {
    "colab": {
      "provenance": [],
      "authorship_tag": "ABX9TyNcOBidy2ralNfGxqO6Fq7+",
      "include_colab_link": true
    },
    "kernelspec": {
      "name": "python3",
      "display_name": "Python 3"
    },
    "language_info": {
      "name": "python"
    }
  },
  "cells": [
    {
      "cell_type": "markdown",
      "metadata": {
        "id": "view-in-github",
        "colab_type": "text"
      },
      "source": [
        "<a href=\"https://colab.research.google.com/github/MohanKrishna777/krishna/blob/main/Exp_9.ipynb\" target=\"_parent\"><img src=\"https://colab.research.google.com/assets/colab-badge.svg\" alt=\"Open In Colab\"/></a>"
      ]
    },
    {
      "cell_type": "code",
      "execution_count": 2,
      "metadata": {
        "colab": {
          "base_uri": "https://localhost:8080/"
        },
        "id": "5bHD3h_vp3kF",
        "outputId": "8a5bf44b-3228-4a01-c2e2-5a61a66bef5c"
      },
      "outputs": [
        {
          "output_type": "stream",
          "name": "stdout",
          "text": [
            "Epoch 1/10\n",
            "300/300 - 55s - loss: 0.3565 - accuracy: 0.8918 - val_loss: 0.0728 - val_accuracy: 0.9778 - 55s/epoch - 184ms/step\n",
            "Epoch 2/10\n",
            "300/300 - 51s - loss: 0.1092 - accuracy: 0.9675 - val_loss: 0.0519 - val_accuracy: 0.9848 - 51s/epoch - 171ms/step\n",
            "Epoch 3/10\n",
            "300/300 - 51s - loss: 0.0804 - accuracy: 0.9754 - val_loss: 0.0347 - val_accuracy: 0.9890 - 51s/epoch - 169ms/step\n",
            "Epoch 4/10\n",
            "300/300 - 52s - loss: 0.0646 - accuracy: 0.9805 - val_loss: 0.0314 - val_accuracy: 0.9895 - 52s/epoch - 172ms/step\n",
            "Epoch 5/10\n",
            "300/300 - 53s - loss: 0.0545 - accuracy: 0.9836 - val_loss: 0.0254 - val_accuracy: 0.9923 - 53s/epoch - 178ms/step\n",
            "Epoch 6/10\n",
            "300/300 - 51s - loss: 0.0473 - accuracy: 0.9858 - val_loss: 0.0290 - val_accuracy: 0.9900 - 51s/epoch - 170ms/step\n",
            "Epoch 7/10\n",
            "300/300 - 53s - loss: 0.0427 - accuracy: 0.9874 - val_loss: 0.0236 - val_accuracy: 0.9919 - 53s/epoch - 175ms/step\n",
            "Epoch 8/10\n",
            "300/300 - 52s - loss: 0.0372 - accuracy: 0.9891 - val_loss: 0.0252 - val_accuracy: 0.9923 - 52s/epoch - 173ms/step\n",
            "Epoch 9/10\n",
            "300/300 - 54s - loss: 0.0351 - accuracy: 0.9890 - val_loss: 0.0244 - val_accuracy: 0.9917 - 54s/epoch - 179ms/step\n",
            "Epoch 10/10\n",
            "300/300 - 52s - loss: 0.0306 - accuracy: 0.9905 - val_loss: 0.0225 - val_accuracy: 0.9927 - 52s/epoch - 174ms/step\n",
            "Test accuracy: 99.27%\n"
          ]
        }
      ],
      "source": [
        "import tensorflow as tf\n",
        "from tensorflow.keras.datasets import mnist\n",
        "from tensorflow.keras.models import Sequential\n",
        "from tensorflow.keras.layers import Conv2D, MaxPooling2D, Flatten, Dense, Dropout\n",
        "from tensorflow.keras.utils import to_categorical\n",
        "# Load and preprocess the dataset\n",
        "(x_train, y_train), (x_test, y_test) = mnist.load_data()\n",
        "x_train = x_train.reshape(x_train.shape[0], 28, 28, 1).astype('float32') / 255\n",
        "x_test = x_test.reshape(x_test.shape[0], 28, 28, 1).astype('float32') / 255\n",
        "y_train = to_categorical(y_train, 10)\n",
        "y_test = to_categorical(y_test, 10)\n",
        "# Build the CNN model\n",
        "model = Sequential()\n",
        "model.add(Conv2D(32, kernel_size=(3, 3), activation='relu',\n",
        "input_shape=(28, 28, 1)))\n",
        "model.add(MaxPooling2D(pool_size=(2, 2)))\n",
        "model.add(Conv2D(64, kernel_size=(3, 3), activation='relu'))\n",
        "model.add(MaxPooling2D(pool_size=(2, 2)))\n",
        "model.add(Flatten())\n",
        "model.add(Dense(128, activation='relu'))\n",
        "model.add(Dropout(0.5))\n",
        "model.add(Dense(10, activation='softmax'))\n",
        "# Compile the model\n",
        "model.compile(loss='categorical_crossentropy', optimizer='adam',\n",
        "metrics=['accuracy'])\n",
        "# Train the model\n",
        "model.fit(x_train, y_train, validation_data=(x_test, y_test), epochs=10,\n",
        "batch_size=200, verbose=2)\n",
        "# Evaluate the model\n",
        "test_loss, test_acc = model.evaluate(x_test, y_test, verbose=0)\n",
        "print(f'Test accuracy: {test_acc*100:.2f}%')\n"
      ]
    }
  ]
}